{
 "cells": [
  {
   "cell_type": "code",
   "execution_count": 222,
   "metadata": {
    "collapsed": true
   },
   "outputs": [],
   "source": [
    "import httpx\n",
    "import time\n",
    "import json\n",
    "import os"
   ]
  },
  {
   "cell_type": "code",
   "execution_count": 223,
   "outputs": [],
   "source": [
    "tid = 35018847"
   ],
   "metadata": {
    "collapsed": false
   }
  },
  {
   "cell_type": "code",
   "execution_count": 224,
   "outputs": [],
   "source": [
    "res = httpx.get(f'https://bbs.nga.cn/read.php?tid={tid}')\n",
    "first_request_time: int = int(time.time())"
   ],
   "metadata": {
    "collapsed": false
   }
  },
  {
   "cell_type": "code",
   "execution_count": 225,
   "outputs": [],
   "source": [
    "header_parse = res.headers['set-cookie'].split(';')\n",
    "header_parse = [i.strip() for i in header_parse]"
   ],
   "metadata": {
    "collapsed": false
   }
  },
  {
   "cell_type": "code",
   "execution_count": 226,
   "outputs": [
    {
     "data": {
      "text/plain": "['lastvisit=1673599970',\n 'path=/',\n 'domain=bbs.nga.cn',\n 'secure, lastpath=/read.php?tid=35018847',\n 'path=/',\n 'domain=bbs.nga.cn',\n 'secure, ngaPassportUid=guest063c11be2c45a3',\n 'expires=Fri, 13-Jan-2023 18:52:50 GMT',\n 'Max-Age=36000',\n 'path=/',\n 'domain=.nga.cn']"
     },
     "execution_count": 226,
     "metadata": {},
     "output_type": "execute_result"
    }
   ],
   "source": [
    "header_parse"
   ],
   "metadata": {
    "collapsed": false
   }
  },
  {
   "cell_type": "code",
   "execution_count": 216,
   "outputs": [],
   "source": [
    "cookies = {\"guestJs\": str(first_request_time)}\n",
    "for header in header_parse:\n",
    "    if header.startswith('lastvisit'):\n",
    "        k, v, *_ = header.split('=')\n",
    "        cookies['lastvisit'] = v\n",
    "    elif header.startswith(\"secure\"):\n",
    "        k, v, *_ = header.split('=')\n",
    "        cookies['ngaPassportUid'] = v"
   ],
   "metadata": {
    "collapsed": false
   }
  },
  {
   "cell_type": "code",
   "execution_count": 217,
   "outputs": [],
   "source": [
    "res2 = httpx.get(f'https://bbs.nga.cn/read.php?tid={tid}&lite=js', cookies=cookies)"
   ],
   "metadata": {
    "collapsed": false
   }
  },
  {
   "cell_type": "code",
   "execution_count": 221,
   "outputs": [
    {
     "data": {
      "text/plain": "'window.script_muti_get_var_store={\"data\":{\"__GLOBAL\":{\"_ATTACH_BASE_VIEW\":\"img.nga.178.com/attachments\"},\"__U\":{\"41377355\":{\"uid\":41377355,\"username\":\"UID:41377355\",\"credit\":169213952,\"medal\":\"\",\"reputation\":\"61_3,75_30,-7_105,91_15,246_15,134_15\",\"groupid\":-1,\"memberid\":39,\"avatar\":\"\",\"yz\":4,\"site\":\"\",\"honor\":\"\",\"regdate\":1494985570,\"mute_time\":\"\",\"postnum\":2087,\"rvrc\":10,\"money\":31100,\"thisvisit\":1673545220,\"signature\":\"\",\"nickname\":\"\",\"bit_data\":169213952},\"60969726\":{\"uid\":60969726,\"username\":\"UID:60969726\",\"credit\":169082880,\"medal\":\"\",\"reputation\":\"61_13,22_50,450012_30,450014_20,74_15,-7_60\",\"groupid\":-1,\"memberid\":39,\"avatar\":\"\",\"yz\":4,\"site\":\"\",\"honor\":\"\",\"regdate\":1568573241,\"mute_time\":\"\",\"postnum\":208,\"rvrc\":10,\"money\":7125,\"thisvisit\":1673568441,\"signature\":\"\",\"nickname\":\"\",\"bit_data\":169082880},\"2365557\":{\"uid\":2365557,\"username\":\"UID:2365557\",\"credit\":169082880,\"medal\":\"\",\"reputation\":\"61_22,19_30,131_30\",\"groupid\":-1,\"memberid\":39,\"avatar\":\"\",\"yz\":4,\"site\":\"\",\"honor\":\"\",\"regdate\":1377862722,\"mute_time\":\"\",\"postnum\":520,\"rvrc\":10,\"money\":2100,\"thisvisit\":1673588830,\"signature\":\"\",\"nickname\":\"\",\"bit_data\":169082880},\"42170259\":{\"uid\":42170259,\"username\":\"UID:42170259\",\"credit\":169222656,\"medal\":\"\",\"reputation\":\"61_1,91_15,450000_20,142_15,450009_35,450020_30\",\"groupid\":-1,\"memberid\":39,\"avatar\":\"\",\"yz\":4,\"site\":\"\",\"honor\":\"\",\"regdate\":1507281677,\"mute_time\":\"\",\"postnum\":1355,\"rvrc\":10,\"money\":19876,\"thisvisit\":1673572064,\"signature\":\"\",\"nickname\":\"\",\"bit_data\":169222656},\"43288146\":{\"uid\":43288146,\"username\":\"UID:43288146\",\"credit\":169091584,\"medal\":\"\",\"reputation\":\"61_16,-7_-435,147_-300,67_-550\",\"groupid\":-1,\"memberid\":39,\"avatar\":\"\",\"yz\":4,\"site\":\"\",\"honor\":\"\",\"regdate\":1536230351,\"mute_time\":\"\",\"postnum\":7197,\"rvrc\":10,\"money\":19900,\"thisvisit\":1673577812,\"signature\":\"\",\"nickname\":\"\",\"bit_data\":169091584},\"63350349\":{\"uid\":63350349,\"username\":\"UID:63350349\",\"credit\":169083392,\"medal\":\"\",\"reputation\":\"87_15,22_-220,450008_40,450012_30,139_30,450017_20,61_27,450042_60,450046_20,450044_80,450045_40,130_10,-7_-255\",\"groupid\":-1,\"memberid\":39,\"avatar\":\"\",\"yz\":4,\"site\":\"\",\"honor\":\"\",\"regdate\":1625192181,\"mute_time\":\"\",\"postnum\":1553,\"rvrc\":10,\"money\":10600,\"thisvisit\":1673520646,\"signature\":\"\",\"nickname\":\"\",\"bit_data\":169083392},\"39009830\":{\"uid\":39009830,\"username\":\"UID:39009830\",\"credit\":135540736,\"medal\":347,\"reputation\":\"3_15,75_-300,-7_-585,67_-300,61_54,22_30\",\"groupid\":-1,\"memberid\":39,\"avatar\":\"\",\"yz\":4,\"site\":\"\",\"honor\":\"\",\"regdate\":1473784503,\"mute_time\":\"\",\"postnum\":4576,\"rvrc\":10,\"money\":38800,\"thisvisit\":1673578573,\"signature\":\"\",\"nickname\":\"\",\"bit_data\":135540736},\"41590391\":{\"uid\":41590391,\"username\":\"UID:41590391\",\"credit\":1442304,\"medal\":\"\",\"reputation\":\"61_12,172_15\",\"groupid\":-1,\"memberid\":39,\"avatar\":\"\",\"yz\":4,\"site\":\"\",\"honor\":\"\",\"regdate\":1498677916,\"mute_time\":\"\",\"postnum\":2700,\"rvrc\":10,\"money\":21400,\"thisvisit\":1673596108,\"signature\":\"\",\"nickname\":\"\",\"bit_data\":1442304},\"21086729\":{\"uid\":21086729,\"username\":\"UID:21086729\",\"credit\":169091584,\"medal\":\"\",\"reputation\":\"61_36\",\"groupid\":-1,\"memberid\":39,\"avatar\":\"\",\"yz\":4,\"site\":\"\",\"honor\":\"\",\"regdate\":1359451834,\"mute_time\":\"\",\"postnum\":24660,\"rvrc\":10,\"money\":8200,\"thisvisit\":1673571657,\"signature\":\"\",\"nickname\":\"\",\"bit_data\":169091584},\"26219876\":{\"uid\":26219876,\"username\":\"UID:26219876\",\"credit\":169607680,\"medal\":\"\",\"reputation\":\"39_45,48_30,61_7,19_30,-7_30\",\"groupid\":-1,\"memberid\":39,\"avatar\":\"\",\"yz\":4,\"site\":\"\",\"honor\":\"\",\"regdate\":1395636297,\"mute_time\":\"\",\"postnum\":3140,\"rvrc\":10,\"money\":4153,\"thisvisit\":1673515518,\"signature\":\"\",\"nickname\":\"\",\"bit_data\":169607680},\"62860466\":{\"uid\":62860466,\"username\":\"UID:62860466\",\"credit\":135536640,\"medal\":\"\",\"reputation\":\"19_30\",\"groupid\":-1,\"memberid\":39,\"avatar\":\"\",\"yz\":4,\"site\":\"\",\"honor\":\"\",\"regdate\":1609849642,\"mute_time\":\"\",\"postnum\":260,\"rvrc\":10,\"money\":0,\"thisvisit\":1673525124,\"signature\":\"\",\"nickname\":\"\",\"bit_data\":135536640},\"39243644\":{\"uid\":39243644,\"username\":\"UID:39243644\",\"credit\":169222656,\"medal\":\"\",\"reputation\":\"61_239,12_15,16_15,209_70,-7_120,90_15,134_15,71_60\",\"groupid\":-1,\"memberid\":39,\"avatar\":\"\",\"yz\":4,\"site\":\"\",\"honor\":\" 1567530942 悲催的大橘为重RPG影帝\",\"regdate\":1476199018,\"mute_time\":\"\",\"postnum\":1780,\"rvrc\":11,\"money\":51709,\"thisvisit\":1673568716,\"signature\":\"\",\"nickname\":\"\",\"bit_data\":169222656},\"25076567\":{\"uid\":25076567,\"username\":\"UID:25076567\",\"credit\":169095680,\"medal\":\"272,346,347\",\"reputation\":\"11_45,19_270,74_15,61_148,-7_-195,201_30\",\"groupid\":-1,\"memberid\":39,\"avatar\":\"\",\"yz\":4,\"site\":\"\",\"honor\":\"\",\"regdate\":1378894600,\"mute_time\":\"\",\"postnum\":12158,\"rvrc\":15,\"money\":67517,\"thisvisit\":1673588365,\"signature\":\"\",\"nickname\":\"\",\"bit_data\":169095680},\"61833083\":{\"uid\":61833083,\"username\":\"UID:61833083\",\"credit\":135537152,\"medal\":\"\",\"reputation\":\"61_1\",\"groupid\":-1,\"memberid\":39,\"avatar\":\"\",\"yz\":4,\"site\":\"\",\"honor\":\"\",\"regdate\":1583671131,\"mute_time\":\"\",\"postnum\":181,\"rvrc\":10,\"money\":100,\"thisvisit\":1673581470,\"signature\":\"\",\"nickname\":\"\",\"bit_data\":135537152},\"60557631\":{\"uid\":60557631,\"username\":\"UID:60557631\",\"credit\":135528960,\"medal\":\"\",\"reputation\":\"61_2,83_195,102_-300,87_45,450010_80,450018_10,450029_10,450030_10\",\"groupid\":-1,\"memberid\":39,\"avatar\":\"\",\"yz\":4,\"site\":\"\",\"honor\":\"\",\"regdate\":1559716999,\"mute_time\":\"\",\"postnum\":4467,\"rvrc\":10,\"money\":200,\"thisvisit\":1673565050,\"signature\":\"\",\"nickname\":\"\",\"bit_data\":135528960},\"38463807\":{\"uid\":38463807,\"username\":\"UID:38463807\",\"credit\":135659520,\"medal\":\"\",\"reputation\":\"19_-300,-7_15\",\"groupid\":-1,\"memberid\":42,\"avatar\":\"\",\"yz\":4,\"site\":\"\",\"honor\":\"\",\"regdate\":1465301679,\"mute_time\":\"\",\"postnum\":614,\"rvrc\":-10,\"money\":0,\"thisvisit\":1673589556,\"signature\":\"\",\"nickname\":\"\",\"bit_data\":135659520},\"__GROUPS\":{\"39\":{\"0\":\"学徒\",\"1\":622816,\"2\":39},\"42\":{\"0\":\"警告等级1\",\"1\":622816,\"2\":42}},\"__MEDALS\":{\"347\":{\"0\":\"347.gif\",\"1\":\"企鹅帽\",\"2\":\"企鹅帽\",\"3\":347},\"272\":{\"0\":\"272.gif\",\"1\":\"棒棒糖\",\"2\":\"叔叔请你吃棒棒糖\",\"3\":272},\"346\":{\"0\":\"346.gif\",\"1\":\"十五周年\",\"2\":\"十五周年\",\"3\":346}},\"__REPUTATIONS\":{\"-7955747\":{\"38463807\":0,\"41377355\":0,\"60969726\":0,\"2365557\":0,\"42170259\":0,\"43288146\":0,\"63350349\":0,\"39009830\":0,\"41590391\":0,\"21086729\":0,\"26219876\":0,\"62860466\":0,\"39243644\":30,\"25076567\":0,\"61833083\":0,\"60557631\":0,\"0\":\"用户圣光礼赞(7955747)的声望\"}},\"-1\":{\"uid\":0,\"username\":\"#anony_064714157cc899ea6096a274930994c1\",\"groupid\":-1,\"memberid\":39,\"bit_data\":64,\"buffs\":{\"103\":{\"0\":0,\"1\":1673686137,\"2\":103,\"3\":\"\",\"4\":\"\",\"5\":\"\"}}}},\"__R\":{\"0\":{\"content\":\"不装了 我的XP就是白白嫩嫩的脚 58请绕道\",\"alterinfo\":\"\",\"tid\":35018847,\"score\":3,\"score_2\":0,\"postdate\":\"2023-01-13 13:48\",\"authorid\":38463807,\"subject\":\"许愿看42的脚\",\"type\":33619968,\"fid\":-7955747,\"pid\":0,\"recommend\":0,\"lou\":0,\"content_length\":36,\"from_client\":\"7 iOS\",\"17\":\",666124933,666118364\",\"postdatetimestamp\":1673588930,\"hotreply_id\":{\"0\":\"\",\"1\":666124933,\"2\":666118364},\"hotreply\":{\"0\":{\"pid\":666124933,\"fid\":-7955747,\"tid\":35018847,\"authorid\":-1,\"type\":270336,\"score\":146,\"score_2\":0,\"recommend\":0,\"postdate\":\"2023-01-13 14:18\",\"subject\":\"\",\"alterinfo\":\"\",\"content\":\"hentai！<br/>[s:a2:壁咚][img]./mon_202301/13/-4qiozQ2r-g7b2ZbT3cSlc-sg.jpg[/img]\",\"lou\":15,\"content_length\":47,\"attachs\":{\"0\":{\"attachurl\":\"mon_202301/13/-4qiozQ2r-g7b2ZbT3cSlc-sg.jpg\",\"size\":107,\"type\":\"img\",\"subid\":0,\"url_utf8_org_name\":\"temp2023-01-09-010720.jpg\",\"dscp\":\"\",\"path\":\"mon_202301/13\",\"name\":\"-4qiozQ2r-g7b2ZbT3cSlc-sg.jpg\",\"ext\":\"jpg\",\"thumb\":120}},\"from_client\":\"8 Android\",\"postdatetimestamp\":1673590695},\"1\":{\"pid\":666118364,\"fid\":-7955747,\"tid\":35018847,\"authorid\":60969726,\"type\":8192,\"score\":69,\"score_2\":0,\"recommend\":0,\"postdate\":\"2023-01-13 13:51\",\"subject\":\"\",\"alterinfo\":\"\",\"content\":\"[img]./mon_202301/13/-4qiozQ2r-5y4sKrT1kSaa-m8.jpg[/img]<br/>42 脚\",\"lou\":2,\"content_length\":45,\"attachs\":{\"0\":{\"attachurl\":\"mon_202301/13/-4qiozQ2r-5y4sKrT1kSaa-m8.jpg\",\"size\":27,\"type\":\"img\",\"subid\":0,\"url_utf8_org_name\":\"temp-378925438.jpg\",\"dscp\":\"\",\"path\":\"mon_202301/13\",\"name\":\"-4qiozQ2r-5y4sKrT1kSaa-m8.jpg\",\"ext\":\"jpg\",\"thumb\":56}},\"from_client\":\"8 Android\",\"postdatetimestamp\":1673589071}}},\"1\":{\"pid\":666118179,\"fid\":-7955747,\"tid\":35018847,\"authorid\":41377355,\"type\":0,\"score\":0,\"score_2\":0,\"recommend\":0,\"postdate\":\"2023-01-13 13:50\",\"subject\":\"\",\"alterinfo\":\"\",\"content\":\"干的漂亮\",\"lou\":1,\"content_length\":8,\"from_client\":\"8 Android\",\"postdatetimestamp\":1673589027},\"2\":{\"pid\":666118364,\"fid\":-7955747,\"tid\":35018847,\"authorid\":60969726,\"type\":8192,\"score\":69,\"score_2\":0,\"recommend\":0,\"postdate\":\"2023-01-13 13:51\",\"subject\":\"\",\"alterinfo\":\"\",\"content\":\"[img]./mon_202301/13/-4qiozQ2r-5y4sKrT1kSaa-m8.jpg[/img]<br/>42 脚\",\"lou\":2,\"content_length\":45,\"attachs\":{\"0\":{\"attachurl\":\"mon_202301/13/-4qiozQ2r-5y4sKrT1kSaa-m8.jpg\",\"size\":27,\"type\":\"img\",\"subid\":0,\"url_utf8_org_name\":\"temp-378925438.jpg\",\"dscp\":\"\",\"path\":\"mon_202301/13\",\"name\":\"-4qiozQ2r-5y4sKrT1kSaa-m8.jpg\",\"ext\":\"jpg\",\"thumb\":56}},\"from_client\":\"8 Android\",\"postdatetimestamp\":1673589071},\"3\":{\"pid\":666118495,\"fid\":-7955747,\"tid\":35018847,\"authorid\":2365557,\"type\":0,\"score\":0,\"score_2\":0,\"recommend\":0,\"postdate\":\"2023-01-13 13:51\",\"subject\":\"\",\"alterinfo\":\"\",\"content\":\"插眼 爱了\",\"lou\":3,\"content_length\":8,\"from_client\":\"0 /\",\"postdatetimestamp\":1673589103},\"4\":{\"pid\":666118522,\"fid\":-7955747,\"tid\":35018847,\"authorid\":42170259,\"type\":0,\"score\":2,\"score_2\":0,\"recommend\":0,\"postdate\":\"2023-01-13 13:51\",\"subject\":\"\",\"alterinfo\":\"\",\"content\":\"来42码的脚，58码的就算了\",\"lou\":4,\"content_length\":24,\"from_client\":\"7 iOS\",\"postdatetimestamp\":1673589113},\"5\":{\"pid\":666118592,\"fid\":-7955747,\"tid\":35018847,\"authorid\":43288146,\"type\":8192,\"score\":4,\"score_2\":0,\"recommend\":0,\"postdate\":\"2023-01-13 13:52\",\"subject\":\"\",\"alterinfo\":\"\",\"content\":\"[s:a2:鬼脸][s:a2:鬼脸][s:a2:鬼脸]<br/>[img]./mon_202301/13/-4qiozQ2r-2h72ZjT3cSg0-sg.jpg.medium.jpg[/img]\",\"lou\":5,\"content_length\":46,\"attachs\":{\"0\":{\"attachurl\":\"mon_202301/13/-4qiozQ2r-2h72ZjT3cSg0-sg.jpg\",\"size\":192,\"type\":\"img\",\"subid\":0,\"url_utf8_org_name\":\"\",\"dscp\":\"\",\"path\":\"mon_202301/13\",\"name\":\"-4qiozQ2r-2h72ZjT3cSg0-sg.jpg\",\"ext\":\"jpg\",\"thumb\":120}},\"from_client\":\"7 iOS\",\"postdatetimestamp\":1673589134},\"6\":{\"pid\":666119011,\"fid\":-7955747,\"tid\":35018847,\"authorid\":63350349,\"type\":0,\"score\":0,\"score_2\":0,\"recommend\":0,\"postdate\":\"2023-01-13 13:53\",\"subject\":\"\",\"alterinfo\":\"\",\"content\":\"查验zsbd\",\"lou\":6,\"content_length\":8,\"from_client\":\"8 Android\",\"postdatetimestamp\":1673589237},\"7\":{\"pid\":666119708,\"fid\":-7955747,\"tid\":35018847,\"authorid\":39009830,\"type\":0,\"score\":1,\"score_2\":0,\"recommend\":0,\"postdate\":\"2023-01-13 13:57\",\"subject\":\"\",\"alterinfo\":\"\",\"content\":\"我先放一只鸡笼在这里\",\"lou\":7,\"content_length\":20,\"from_client\":\"8 Android\",\"postdatetimestamp\":1673589421},\"8\":{\"pid\":666119720,\"fid\":-7955747,\"tid\":35018847,\"authorid\":41590391,\"type\":0,\"score\":4,\"score_2\":0,\"recommend\":0,\"postdate\":\"2023-01-13 13:57\",\"subject\":\"\",\"alterinfo\":\"\",\"content\":\"[quote][pid=666118522,35018847,1]Reply[/pid] [b]Post by [uid=42170259]麻酱真难吃[/uid] (2023-01-13 13:51):[/b]<br/><br/>来42码的脚，58码的就算了[/quote]<br/><br/>58码的我还想看看，42码的我直接看自己就行\",\"lou\":8,\"content_length\":45,\"from_client\":\"8 Android\",\"reply_to\":666118522,\"postdatetimestamp\":1673589423},\"9\":{\"pid\":666119892,\"fid\":-7955747,\"tid\":35018847,\"authorid\":21086729,\"type\":0,\"score\":1,\"score_2\":0,\"recommend\":0,\"postdate\":\"2023-01-13 13:57\",\"subject\":\"\",\"alterinfo\":\"\",\"content\":\"[quote][pid=666118522,35018847,1]Reply[/pid] [b]Post by [uid=42170259]麻酱真难吃[/uid] (2023-01-13 13:51):[/b]<br/><br/>来42码的脚，58码的就算了[/quote]<br/><br/>42的脚大多不都是小于40码的吗[s:ac:哭笑]\",\"lou\":10,\"content_length\":31,\"from_client\":\"8 Android\",\"reply_to\":666118522,\"postdatetimestamp\":1673589465},\"10\":{\"pid\":666119965,\"fid\":-7955747,\"tid\":35018847,\"authorid\":26219876,\"type\":0,\"score\":0,\"score_2\":0,\"recommend\":0,\"postdate\":\"2023-01-13 13:58\",\"subject\":\"\",\"alterinfo\":\"\",\"content\":\"[s:ac:忧伤]我44的脚不能给你看了\",\"lou\":11,\"content_length\":18,\"from_client\":\"0 /\",\"postdatetimestamp\":1673589484},\"11\":{\"pid\":666121680,\"fid\":-7955747,\"tid\":35018847,\"authorid\":62860466,\"type\":0,\"score\":0,\"score_2\":0,\"recommend\":0,\"postdate\":\"2023-01-13 14:05\",\"subject\":\"\",\"alterinfo\":\"\",\"content\":\"裸足裸足裸足\",\"lou\":13,\"content_length\":12,\"from_client\":\"7 iOS\",\"postdatetimestamp\":1673589916},\"12\":{\"pid\":666123925,\"fid\":-7955747,\"tid\":35018847,\"authorid\":39243644,\"type\":0,\"score\":0,\"score_2\":0,\"recommend\":0,\"postdate\":\"2023-01-13 14:14\",\"subject\":\"\",\"alterinfo\":\"\",\"content\":\"这脚有点大\",\"lou\":14,\"content_length\":10,\"from_client\":\"8 Android\",\"postdatetimestamp\":1673590454},\"13\":{\"pid\":666124933,\"fid\":-7955747,\"tid\":35018847,\"authorid\":-1,\"type\":270336,\"score\":146,\"score_2\":0,\"recommend\":0,\"postdate\":\"2023-01-13 14:18\",\"subject\":\"\",\"alterinfo\":\"\",\"content\":\"hentai！<br/>[s:a2:壁咚][img]./mon_202301/13/-4qiozQ2r-g7b2ZbT3cSlc-sg.jpg[/img]\",\"lou\":15,\"content_length\":47,\"attachs\":{\"0\":{\"attachurl\":\"mon_202301/13/-4qiozQ2r-g7b2ZbT3cSlc-sg.jpg\",\"size\":107,\"type\":\"img\",\"subid\":0,\"url_utf8_org_name\":\"temp2023-01-09-010720.jpg\",\"dscp\":\"\",\"path\":\"mon_202301/13\",\"name\":\"-4qiozQ2r-g7b2ZbT3cSlc-sg.jpg\",\"ext\":\"jpg\",\"thumb\":120}},\"from_client\":\"8 Android\",\"postdatetimestamp\":1673590695},\"14\":{\"pid\":666127590,\"fid\":-7955747,\"tid\":35018847,\"authorid\":25076567,\"type\":0,\"score\":2,\"score_2\":0,\"recommend\":0,\"postdate\":\"2023-01-13 14:29\",\"subject\":\"\",\"alterinfo\":\"\",\"content\":\"[quote][pid=666124933,35018847,1]Reply[/pid] [b]Post by [uid]#anony_064714157cc899ea6096a274930994c1[/uid][color=gray](15楼)[/color] (2023-01-13 14:18):[/b]<br/><br/>hentai！<br/>[s:a2:壁咚][img]./mon_202301/13/-4qiozQ2r-g7b2ZbT3cSlc-sg.jpg[/img][/quote]<br/><br/>摩多摩多~~~\",\"lou\":17,\"content_length\":16,\"reply_to\":666124933,\"from_client\":\"0 /\",\"postdatetimestamp\":1673591373},\"15\":{\"pid\":666127884,\"fid\":-7955747,\"tid\":35018847,\"authorid\":61833083,\"type\":0,\"score\":0,\"score_2\":0,\"recommend\":0,\"postdate\":\"2023-01-13 14:30\",\"subject\":\"\",\"alterinfo\":\"\",\"content\":\"44的脚看吗[s:ac:闪光]\",\"lou\":18,\"content_length\":8,\"from_client\":\"8 Android\",\"postdatetimestamp\":1673591445},\"16\":{\"pid\":666128638,\"fid\":-7955747,\"tid\":35018847,\"authorid\":60557631,\"type\":0,\"score\":1,\"score_2\":0,\"recommend\":0,\"postdate\":\"2023-01-13 14:33\",\"subject\":\"\",\"alterinfo\":\"\",\"content\":\"楼主都说了58绕道，怎么还有人这么不懂事[s:ac:怒]\",\"lou\":19,\"content_length\":36,\"from_client\":\"8 Android\",\"postdatetimestamp\":1673591631}},\"__T\":{\"fid\":-7955747,\"tid\":35018847,\"topic_misc\":\"AgISRP0\",\"subject\":\"许愿看42的脚\",\"locked\":0,\"recommend\":0,\"quote_to\":\"\",\"quote_from\":0,\"type\":65536,\"replies\":38,\"authorid\":38463807,\"postdate\":1673588930,\"lastpost\":1673597758,\"jdata\":\"\",\"author\":\"不要放香菜啊\",\"lastposter\":\"三玖第一\",\"digest\":0,\"lastmodify\":1673599728,\"tpid\":0,\"topic_misc_var\":{\"2\":34751741},\"__ST\":{\"fid\":-7955747,\"tid\":34751741,\"topic_misc\":\"\",\"subject\":\"[许愿贴发这里]达拉然喷泉\",\"locked\":0,\"recommend\":0,\"quote_to\":\"\",\"quote_from\":0,\"type\":33792,\"replies\":0,\"authorid\":35159831,\"postdate\":1671440738,\"lastpost\":1673597171,\"jdata\":\"\",\"author\":\"血牙酱\",\"lastposter\":\"血牙酱\",\"digest\":0,\"lastmodify\":1672756391,\"tpid\":0,\"__P\":{\"aid\":\"a:3:{i:1;i:110;i:2;s:13:\\\\\"43.228.38.242\\\\\";i:0;i:-7955747;}\",\"score\":0,\"score_2\":0,\"content\":\"鉴于许愿贴过多的现状，后续许愿贴请移步至合集达拉然喷泉发布，同时过于低俗或者不恰当的许愿可能会被删除甚至处罚。\",\"alterinfo\":\"\",\"post_misc_var\":{\"content_length\":110,\"fid\":-7955747,\"userip\":\"43.228.38.242\"},\"recommend\":0,\"type\":33792,\"authorid\":35159831,\"postdate\":1671440738,\"subject\":\"[许愿贴发这里]达拉然喷泉\",\"pid\":\"\",\"tid\":34751741,\"fid\":-7955747},\"post_misc_var\":{\"content_length\":110,\"fid\":-7955747,\"userip\":\"43.228.38.242\"}},\"post_misc_var\":{\"content_length\":36,\"fid\":-7955747,\"17\":\",666124933,666118364\"},\"this_visit_rows\":39},\"__F\":{\"custom_level\":\"[{r:-501,n:\\\\\"离人\\\\\"},{r:-450,n:\\\\\"遗恨\\\\\"},{r:-300,n:\\\\\"负心\\\\\"},{r:-150,n:\\\\\"前任\\\\\"},{r:-1,n:\\\\\"过客\\\\\"},{r:0,n:\\\\\"酌客\\\\\"},{r:150,n:\\\\\"说书人\\\\\"},{r:1500,n:\\\\\"万人迷\\\\\"}]\",\"name\":\"晴风村\"},\"__R__ROWS\":17,\"__R__ROWS_PAGE\":20,\"__ROWS\":39,\"__PAGE\":1},\"encode\":\"GBK\",\"time\":1673599737}'"
     },
     "execution_count": 221,
     "metadata": {},
     "output_type": "execute_result"
    }
   ],
   "source": [
    "res2.text"
   ],
   "metadata": {
    "collapsed": false
   }
  },
  {
   "cell_type": "code",
   "execution_count": 218,
   "outputs": [
    {
     "name": "stdout",
     "output_type": "stream",
     "text": [
      "15967\n"
     ]
    }
   ],
   "source": [
    "print(len(res2.content))"
   ],
   "metadata": {
    "collapsed": false
   }
  },
  {
   "cell_type": "code",
   "execution_count": 219,
   "outputs": [],
   "source": [
    "data = json.loads(res2.text[len(\"window.script_muti_get_var_store=\"):])['data']"
   ],
   "metadata": {
    "collapsed": false
   }
  },
  {
   "cell_type": "code",
   "execution_count": 220,
   "outputs": [],
   "source": [
    "img_base = data['__GLOBAL']['_ATTACH_BASE_VIEW']\n",
    "reply = data[\"__R\"]\n",
    "post = data['__T']"
   ],
   "metadata": {
    "collapsed": false
   }
  },
  {
   "cell_type": "code",
   "execution_count": 157,
   "outputs": [],
   "source": [
    "reply_contains_img = []\n",
    "for _, d in reply.items():\n",
    "    if d.get('attachs') is not None:\n",
    "        reply_contains_img.append(d)"
   ],
   "metadata": {
    "collapsed": false
   }
  },
  {
   "cell_type": "code",
   "execution_count": 192,
   "outputs": [],
   "source": [
    "base_dir = post['subject']\n",
    "os.makedirs(f'content/{base_dir}', exist_ok=True)\n",
    "for each in reply_contains_img:\n",
    "    for _, each_content in each['attachs'].items():\n",
    "        sub = each_content['attachurl']\n",
    "        url = f'https://{img_base}/{sub}'\n",
    "        r = httpx.get(url)\n",
    "        img_name = sub.split('/')[-1]\n",
    "        img_path = f'content/{base_dir}/{img_name}'\n",
    "        with open(img_path, 'wb') as f:\n",
    "            f.write(r.content)"
   ],
   "metadata": {
    "collapsed": false
   }
  },
  {
   "cell_type": "code",
   "execution_count": 228,
   "outputs": [],
   "source": [
    "from utils import  parse_header"
   ],
   "metadata": {
    "collapsed": false
   }
  },
  {
   "cell_type": "code",
   "execution_count": 227,
   "outputs": [
    {
     "data": {
      "text/plain": "Headers([('date', 'Fri, 13 Jan 2023 08:48:56 GMT'), ('content-type', 'text/javascript; charset=GBK'), ('transfer-encoding', 'chunked'), ('connection', 'keep-alive'), ('server', 'nginx'), ('strict-transport-security', 'max-age=604800'), ('x-nga-server', '53'), ('set-cookie', 'lastvisit=1673599737; path=/; domain=bbs.nga.cn; secure'), ('set-cookie', 'lastpath=/read.php?tid=35018847&lite=js; path=/; domain=bbs.nga.cn; secure'), ('content-encoding', 'gzip'), ('x-via', '1.1 PS-PEK-01zM8144:8 (Cdn Cache Server V2.0)'), ('x-ws-request-id', '63c11af8_PS-PEK-01mMC145_10059-57312')])"
     },
     "execution_count": 227,
     "metadata": {},
     "output_type": "execute_result"
    }
   ],
   "source": [
    "res2.headers"
   ],
   "metadata": {
    "collapsed": false
   }
  },
  {
   "cell_type": "code",
   "execution_count": null,
   "outputs": [],
   "source": [
    "parse_header(res2.headers, 1, )"
   ],
   "metadata": {
    "collapsed": false
   }
  },
  {
   "cell_type": "code",
   "execution_count": null,
   "outputs": [],
   "source": [],
   "metadata": {
    "collapsed": false
   }
  }
 ],
 "metadata": {
  "kernelspec": {
   "display_name": "Python 3",
   "language": "python",
   "name": "python3"
  },
  "language_info": {
   "codemirror_mode": {
    "name": "ipython",
    "version": 2
   },
   "file_extension": ".py",
   "mimetype": "text/x-python",
   "name": "python",
   "nbconvert_exporter": "python",
   "pygments_lexer": "ipython2",
   "version": "2.7.6"
  }
 },
 "nbformat": 4,
 "nbformat_minor": 0
}
